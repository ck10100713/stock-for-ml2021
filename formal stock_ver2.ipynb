{
 "cells": [
  {
   "cell_type": "code",
   "execution_count": 18,
   "metadata": {},
   "outputs": [],
   "source": [
    "import json\n",
    "import time \n",
    "import requests\n",
    "import numpy as np\n",
    "import pandas as pd\n",
    "from datetime import datetime\n",
    "from openpyxl import Workbook\n",
    "from openpyxl import load_workbook\n",
    "from openpyxl.utils import get_column_letter\n",
    "from openpyxl.styles import Font, colors, Alignment\n",
    "import gdown"
   ]
  },
  {
   "cell_type": "code",
   "execution_count": 2,
   "metadata": {},
   "outputs": [],
   "source": [
    "def timeStamp(timeNum): \n",
    "    timeArray = time.localtime(timeNum) \n",
    "    otherStyleTime = time.strftime(\"%Y-%m-%d\", timeArray) \n",
    "    return otherStyleTime"
   ]
  },
  {
   "cell_type": "code",
   "execution_count": 23,
   "metadata": {},
   "outputs": [
    {
     "name": "stderr",
     "output_type": "stream",
     "text": [
      "Downloading...\n",
      "From: https://drive.google.com/u/0/uc?id=1M-6VKzAdiE6VVLRhLYgyyPFCIJ7dxa0q&export=download\n",
      "To: /Users/vladx/stock/stock_price.xlsx\n",
      "100%|██████████| 8.28k/8.28k [00:00<00:00, 9.58MB/s]\n"
     ]
    },
    {
     "data": {
      "text/plain": [
       "'stock_price.xlsx'"
      ]
     },
     "execution_count": 23,
     "metadata": {},
     "output_type": "execute_result"
    }
   ],
   "source": [
    "url1 = \"https://drive.google.com/u/0/uc?id=1M-6VKzAdiE6VVLRhLYgyyPFCIJ7dxa0q&export=download\"\n",
    "output = \"stock_price.xlsx\"\n",
    "gdown.download(url1, output)"
   ]
  },
  {
   "cell_type": "code",
   "execution_count": 12,
   "metadata": {},
   "outputs": [],
   "source": [
    "def avg5(stock_id):\n",
    "    sum=0\n",
    "    wb =load_workbook('stock_price.xlsx')\n",
    "    sheet = wb[stock_id]\n",
    "    sheet.cell(row=1, column=7).value='MA5'\n",
    "    for i in range(2,len(list(sheet.rows))):\n",
    "        if i>6:\n",
    "            sheet.cell(row=i, column=7).value=sum/5\n",
    "            sum=sum-sheet.cell(row=i-5, column=5).value\n",
    "        sum=sum+sheet.cell(row=i, column=5).value\n",
    "    wb.save(filename = 'stock_price.xlsx')"
   ]
  },
  {
   "cell_type": "code",
   "execution_count": 13,
   "metadata": {},
   "outputs": [],
   "source": [
    "def avg10(stock_id):\n",
    "    sum=0\n",
    "    wb =load_workbook('stock_price.xlsx')\n",
    "    sheet = wb[stock_id]\n",
    "    sheet.cell(row=1, column=8).value='MA10'\n",
    "    for i in range(2,len(list(sheet.rows))):\n",
    "        if i>11:\n",
    "            sheet.cell(row=i, column=8).value=sum/10\n",
    "            sum=sum-sheet.cell(row=i-10, column=5).value\n",
    "        sum=sum+sheet.cell(row=i, column=5).value\n",
    "    wb.save(filename = 'stock_price.xlsx')"
   ]
  },
  {
   "cell_type": "code",
   "execution_count": 14,
   "metadata": {},
   "outputs": [],
   "source": [
    "def avg20(stock_id):\n",
    "    sum=0\n",
    "    wb =load_workbook('stock_price.xlsx')\n",
    "    sheet = wb[stock_id]\n",
    "    sheet.cell(row=1, column=9).value='MA20'\n",
    "    for i in range(2,len(list(sheet.rows))):\n",
    "        if i>21:\n",
    "            sheet.cell(row=i, column=9).value=sum/20\n",
    "            sum=sum-sheet.cell(row=i-20, column=5).value\n",
    "        sum=sum+sheet.cell(row=i, column=5).value\n",
    "    wb.save(filename = 'stock_price.xlsx')"
   ]
  },
  {
   "cell_type": "code",
   "execution_count": 15,
   "metadata": {},
   "outputs": [],
   "source": [
    "def avg240(stock_id):\n",
    "    sum=0\n",
    "    wb =load_workbook('stock_price.xlsx')\n",
    "    sheet = wb[stock_id]\n",
    "    sheet.cell(row=1, column=10).value='MA240'\n",
    "    for i in range(2,len(list(sheet.rows))):\n",
    "        if i>241:\n",
    "            sheet.cell(row=i, column=10).value=sum/240\n",
    "            sum=sum-sheet.cell(row=i-240, column=5).value\n",
    "        sum=sum+sheet.cell(row=i, column=5).value\n",
    "    wb.save(filename = 'stock_price.xlsx')"
   ]
  },
  {
   "cell_type": "code",
   "execution_count": 24,
   "metadata": {},
   "outputs": [],
   "source": [
    "def crawl_price():\n",
    "\n",
    "    print(\"歡迎使用股價表單製作程式\")\n",
    "    stock_id=input('請輸入股票代碼，台股代號後方請加上.TW，ex:2330.TW\\n')\n",
    "    #stock_id='2330.TW'\n",
    "    wb =load_workbook('stock_price.xlsx')\n",
    "    \n",
    "    ws = wb.create_sheet(title=stock_id)\n",
    "    dest_filename = 'stock_price.xlsx'\n",
    "    ws.title = stock_id\n",
    "    d = datetime.now()\n",
    "    url = \"https://query1.finance.yahoo.com/v8/finance/chart/\"+stock_id+\"?period1=0&period2=\"+str(int(d.timestamp()))+\"&interval=1d&events=history&=hP2rOschxO0\"\n",
    "    res = requests.get(url)\n",
    "    data = json.loads(res.text)\n",
    "          \n",
    "    tableTitle = ['day', 'volume', 'open', 'high','close','low']\n",
    "    for i in range(len(tableTitle)):\n",
    "        c = i + 1\n",
    "        ws.cell(row=1, column=c).value = tableTitle[i]\n",
    "    for row in range(1,len(data['chart']['result'][0]['timestamp'])):\n",
    "        ws.append([timeStamp(data['chart']['result'][0]['timestamp'][row])])\n",
    "    for i in range(len(data['chart']['result'][0]['indicators']['quote'][0]['volume'])-1):\n",
    "        c = i+1\n",
    "        ws.cell(row=c+1, column=2).value = data['chart']['result'][0]['indicators']['quote'][0]['volume'][c]\n",
    "        ws.cell(row=c+1, column=3).value = data['chart']['result'][0]['indicators']['quote'][0]['open'][c]\n",
    "        ws.cell(row=c+1, column=4).value = data['chart']['result'][0]['indicators']['quote'][0]['high'][c]\n",
    "        ws.cell(row=c+1, column=5).value = data['chart']['result'][0]['indicators']['quote'][0]['close'][c]\n",
    "        ws.cell(row=c+1, column=6).value = data['chart']['result'][0]['indicators']['quote'][0]['low'][c]\n",
    "        \n",
    "        #把國定假日沒開市的情況清空\n",
    "        if data['chart']['result'][0]['indicators']['quote'][0]['volume'][c] is None:\n",
    "            ws.cell(row=c+1, column=2).value=0\n",
    "    sheet = wb[stock_id]\n",
    "    for i in range(2,len(list(sheet.rows))):\n",
    "        while sheet.cell(row=i, column=2).value==0:\n",
    "            sheet.delete_rows(i)\n",
    "    wb.save(filename = dest_filename)\n",
    "    \n",
    "    #原本要做MA只是這個資料結構不好你可以跑跑看這個函數XD\n",
    "    #avg5(stock_id)\n",
    "    #avg10(stock_id)\n",
    "    #avg20(stock_id)\n",
    "    #avg240(stock_id)"
   ]
  },
  {
   "cell_type": "code",
   "execution_count": null,
   "metadata": {},
   "outputs": [],
   "source": []
  },
  {
   "cell_type": "code",
   "execution_count": 26,
   "metadata": {},
   "outputs": [
    {
     "name": "stdout",
     "output_type": "stream",
     "text": [
      "歡迎使用股價表單製作程式\n",
      "請輸入股票代碼，台股代號後方請加上.TW，ex:2330.TW\n",
      "2317.TW\n"
     ]
    }
   ],
   "source": [
    "crawl_price()"
   ]
  },
  {
   "cell_type": "code",
   "execution_count": null,
   "metadata": {},
   "outputs": [],
   "source": []
  },
  {
   "cell_type": "code",
   "execution_count": null,
   "metadata": {},
   "outputs": [],
   "source": []
  }
 ],
 "metadata": {
  "kernelspec": {
   "display_name": "Python 3",
   "language": "python",
   "name": "python3"
  },
  "language_info": {
   "codemirror_mode": {
    "name": "ipython",
    "version": 3
   },
   "file_extension": ".py",
   "mimetype": "text/x-python",
   "name": "python",
   "nbconvert_exporter": "python",
   "pygments_lexer": "ipython3",
   "version": "3.7.3"
  }
 },
 "nbformat": 4,
 "nbformat_minor": 2
}
